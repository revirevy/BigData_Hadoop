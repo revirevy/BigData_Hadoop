{
 "cells": [
  {
   "cell_type": "markdown",
   "metadata": {},
   "source": [
    "## Hadoop Training Resources\n",
    "\n",
    "+ [Big Data and Hadoop for Beginners - with Hands-on!](https://www.udemy.com/big-data-and-hadoop-for-beginners/)\n",
    "    - 3h effort\n",
    "    - Hands-on - beginner level\n",
    "    - Requirement: SQL and RDBMS \n",
    "    - Focus: architecture (MapReduce, YARN, Hive, Pig) + own code with Hive/Pig to process data\n",
    "    - Extras: design data pipeline with Pig/Hive\n",
    "\n",
    "+ [Learn Big Data: The Hadoop Ecosystem Masterclass](https://www.udemy.com/learn-big-data-the-hadoop-ecosystem-masterclass/)\n",
    "\n",
    "\n",
    "\n",
    "+ [The Ultimate Hands-On Hadoop - Tame your Big Data!](https://www.udemy.com/the-ultimate-hands-on-hadoop-tame-your-big-data)"
   ]
  },
  {
   "cell_type": "code",
   "execution_count": null,
   "metadata": {},
   "outputs": [],
   "source": []
  }
 ],
 "metadata": {
  "kernelspec": {
   "display_name": "Python 3",
   "language": "python",
   "name": "python3"
  },
  "language_info": {
   "codemirror_mode": {
    "name": "ipython",
    "version": 3
   },
   "file_extension": ".py",
   "mimetype": "text/x-python",
   "name": "python",
   "nbconvert_exporter": "python",
   "pygments_lexer": "ipython3",
   "version": "3.7.1"
  }
 },
 "nbformat": 4,
 "nbformat_minor": 2
}
