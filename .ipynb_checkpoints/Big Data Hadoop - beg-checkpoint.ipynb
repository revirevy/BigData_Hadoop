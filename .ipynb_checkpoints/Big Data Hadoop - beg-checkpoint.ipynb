{
 "cells": [
  {
   "cell_type": "markdown",
   "metadata": {},
   "source": [
    "## Big Data Hadoop - \n",
    "https://www.udemy.com/big-data-and-hadoop-for-beginners/learn/v4/overview\n",
    "\n",
    "### Goals: \n",
    "Learn about Big Data market, different job roles, technology trends, history of Hadoop, HDFS, Hadoop Ecosystem, Hive and Pig. In this course, we will see how as a beginner one should start with Hadoop. This course comes with a lot of hands-on examples which will help you learn Hadoop quickly.\n",
    "\n",
    "+ Big Data at a Glance\n",
    "+ Getting Started with Hadoop\n",
    "+ Getting Started with Hive\n",
    "+ Getting Started with Pig\n",
    "+ Use Cases\n",
    "+ Practice\n",
    "\n",
    "#### Learnings: \n",
    "Understand what Hadoop is for, and how it works\n",
    "Understand complex architectures of Hadoop and its component\n",
    "Hadoop installation on your machine\n",
    "Understand how MapReduce, Hive and Pig can be used to analyze big data sets\n",
    "High quality documents\n",
    "Demos: Running HDFS commands, Hive queries, Pig queries\n",
    "Sample data sets and scripts (HDFS commands, Hive sample queries, Pig sample queries, Data Pipeline sample queries)\n",
    "Start writing your own codes in Hive and Pig to process huge volumes of data\n",
    "Design your own data pipeline using Pig and Hive\n",
    "Understand modern data architecture: Data Lake\n",
    "Practice with Big Data sets"
   ]
  },
  {
   "cell_type": "markdown",
   "metadata": {},
   "source": [
    "### Big Data at a Glance\n",
    "\n",
    "Topics: \n",
    "1. Introduction to Big Data [09:23]\n",
    "2. Job Roles in Big Data [06:30]\n",
    "3. Salary Analysis [02:55]\n",
    "4. Technology Trends in the Market [06:30]\n",
    "5. Advice for Big Data Beginners [02:45]"
   ]
  },
  {
   "cell_type": "markdown",
   "metadata": {},
   "source": []
  },
  {
   "cell_type": "markdown",
   "metadata": {},
   "source": []
  }
 ],
 "metadata": {
  "kernelspec": {
   "display_name": "Python 3",
   "language": "python",
   "name": "python3"
  },
  "language_info": {
   "codemirror_mode": {
    "name": "ipython",
    "version": 3
   },
   "file_extension": ".py",
   "mimetype": "text/x-python",
   "name": "python",
   "nbconvert_exporter": "python",
   "pygments_lexer": "ipython3",
   "version": "3.7.1"
  }
 },
 "nbformat": 4,
 "nbformat_minor": 2
}
