{
 "cells": [
  {
   "cell_type": "markdown",
   "metadata": {},
   "source": [
    "Questions Anton: \n",
    "- Which Hadoop distribution used? \n",
    "    - Apache Hadoop\n",
    "    - Vendor: Cloudera, Hortonworks etc\n",
    "    \n",
    "- Which Hadoop version deployed?\n",
    "- Which Hadoop ecosystem components used? \n",
    "    - HDFS, MapReduce\n",
    "    - Yarn, Hive, Pig, Scoop...\n",
    "    \n",
    "- Data sources configured to feed cluster?\n",
    "- Hadoop data block size configuration: default or customised? \n",
    "- Hadoop data node replication configuration: default or customised?\n",
    "\n"
   ]
  }
 ],
 "metadata": {
  "kernelspec": {
   "display_name": "Python 3",
   "language": "python",
   "name": "python3"
  },
  "language_info": {
   "codemirror_mode": {
    "name": "ipython",
    "version": 3
   },
   "file_extension": ".py",
   "mimetype": "text/x-python",
   "name": "python",
   "nbconvert_exporter": "python",
   "pygments_lexer": "ipython3",
   "version": "3.7.1"
  }
 },
 "nbformat": 4,
 "nbformat_minor": 2
}
